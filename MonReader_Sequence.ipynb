{
 "cells": [
  {
   "cell_type": "markdown",
   "id": "dd2b81fc",
   "metadata": {},
   "source": [
    "In this notebook, we will check if we can build a classifier that can predict labels for a sequence of images. We will combine CNN and LSTM layers to build a model. CNN is used as a feature extractor and LSTM layers are used to understand temporal features of the sequence of images.\n",
    "\n",
    "### Initial Setup\n",
    "\n",
    "* Import all libraries"
   ]
  },
  {
   "cell_type": "code",
   "execution_count": 1,
   "id": "a3159678",
   "metadata": {},
   "outputs": [],
   "source": [
    "import os\n",
    "from collections import Counter\n",
    "import cv2\n",
    "import tensorflow as tf\n",
    "import matplotlib.pyplot as plt\n",
    "from tensorflow.keras.preprocessing.image import ImageDataGenerator\n",
    "from keras_video import VideoFrameGenerator"
   ]
  },
  {
   "cell_type": "markdown",
   "id": "3fff45cf",
   "metadata": {},
   "source": [
    "* Converting sequential images to video\n",
    "\n",
    "We will convert the image sequences that we have into videos using the following function. The images that belong to a sequence have similar names. We will use that information to prepare the training and test datasets."
   ]
  },
  {
   "cell_type": "code",
   "execution_count": 71,
   "id": "f65ab81d",
   "metadata": {},
   "outputs": [],
   "source": [
    "def images_to_videos(folder_names, classes):\n",
    "    if not os.path.exists('videos'):\n",
    "        os.makedirs('videos')\n",
    "    for folder in folder_names:\n",
    "        if not os.path.exists('videos/' + folder):\n",
    "            os.makedirs('videos/' + folder)\n",
    "        for class_name in classes:\n",
    "            if not os.path.exists('videos/' + folder + '/' + class_name):\n",
    "                os.makedirs('videos/' + folder + '/' + class_name)\n",
    "            image_folder = 'images/' + folder + '/' + class_name\n",
    "            files_list = os.listdir(image_folder)\n",
    "            filenames = []\n",
    "            for files in files_list:\n",
    "                filenames.append(files[0:4])\n",
    "            \n",
    "            # Keeping videos with at least 5 frames\n",
    "            files_dict = {k: v for k, v in Counter(filenames).items() if v > 4}\n",
    "            for file, count in files_dict.items():\n",
    "                images = [img for img in os.listdir(image_folder) if img[0:4] == file]\n",
    "                frame = cv2.imread(os.path.join(image_folder, images[0]))\n",
    "                height, width, layers = frame.shape\n",
    "                \n",
    "                video_name = 'videos/' + folder + '/' + class_name + '/' + file + '_video.avi'\n",
    "                video = cv2.VideoWriter(video_name, 0, 1, (width, height))\n",
    "                \n",
    "                for image in images:\n",
    "                    video.write(cv2.imread(os.path.join(image_folder, image)))\n",
    "                cv2.destroyAllWindows()\n",
    "                video.release()\n",
    "    return None\n",
    "\n",
    "images_to_videos(folder_names, classes)"
   ]
  },
  {
   "cell_type": "markdown",
   "id": "6cf79ce1",
   "metadata": {},
   "source": [
    "* Initialize image folder path and other parameters"
   ]
  },
  {
   "cell_type": "code",
   "execution_count": 2,
   "id": "e2c5047c",
   "metadata": {},
   "outputs": [],
   "source": [
    "#tf.debugging.set_log_device_placement(True)\n",
    "\n",
    "IMAGE_SHAPE = (224, 224)\n",
    "TRAINING_DATA_DIR = \"videos/training\"\n",
    "TEST_DATA_DIR = \"videos/testing\"\n",
    "EVAL_DIR = \"final_evaluation\"\n",
    "BATCH_SIZE = 8\n",
    "EPOCHS=50\n",
    "FRAMES = 5\n",
    "CHANNELS = 3\n",
    "\n",
    "# The dataset is labelled 'flip' and 'notflip'\n",
    "folder_names = ['training', 'testing']\n",
    "classes = ['flip', 'notflip']\n",
    "\n",
    "glob_train_pattern = TRAINING_DATA_DIR + '/{classname}/*.avi'\n",
    "glob_test_pattern = TEST_DATA_DIR + '/{classname}/*.avi'"
   ]
  },
  {
   "cell_type": "markdown",
   "id": "6e47031f",
   "metadata": {},
   "source": [
    "Training data contains 117 videos, whereas testing data is made of 65 videos"
   ]
  },
  {
   "cell_type": "code",
   "execution_count": 3,
   "id": "dc40f01b",
   "metadata": {},
   "outputs": [
    {
     "name": "stdout",
     "output_type": "stream",
     "text": [
      "Total Number of training data: 117\n",
      "Total Number of testing data: 65\n"
     ]
    }
   ],
   "source": [
    "print(\"Total Number of training data:\", sum(len(files) for f, s, files in os.walk(TRAINING_DATA_DIR)))\n",
    "print(\"Total Number of testing data:\", sum(len(files) for f, s, files in os.walk(TEST_DATA_DIR)))"
   ]
  },
  {
   "cell_type": "markdown",
   "id": "bb096de2",
   "metadata": {},
   "source": [
    "#### Create a custom classifier that combines CNN and LSTM layers\n",
    "\n",
    "Step 1: Load the videos and prepare the training and testing dataset to build a classifier. We have separated the videos based on their labels and placed them in different folders. Similar to ImageDataGenerator that assists the flow of single images from directories to the models. We will use VideoFrameGenerator that can pass multiple images at a time as the input to the ML models. Unfortunately, the videos do not have same number of frames. We will pick 5 distributed images from the entire video that can capture a sequence."
   ]
  },
  {
   "cell_type": "code",
   "execution_count": 4,
   "id": "932f8d37",
   "metadata": {},
   "outputs": [
    {
     "name": "stdout",
     "output_type": "stream",
     "text": [
      "Total data: 2 classes for 117 files for train\n",
      "Total data: 2 classes for 65 files for train\n"
     ]
    }
   ],
   "source": [
    "tf.random.set_seed(42)\n",
    "\n",
    "data_augmentation = ImageDataGenerator(zoom_range=.1,\n",
    "                                       horizontal_flip=True,\n",
    "                                       rotation_range=8,\n",
    "                                       width_shift_range=.2,\n",
    "                                       height_shift_range=.2,)\n",
    "\n",
    "training_set = VideoFrameGenerator(classes=classes,\n",
    "                                   rescale=1./255,\n",
    "                                   glob_pattern=glob_train_pattern,\n",
    "                                   nb_frames=FRAMES,\n",
    "                                   shuffle=True,\n",
    "                                   batch_size=BATCH_SIZE,\n",
    "                                   target_shape=IMAGE_SHAPE,\n",
    "                                   nb_channel=CHANNELS,\n",
    "                                   transformation=data_augmentation,\n",
    "                                   use_frame_cache=False,)\n",
    "\n",
    "test_set = VideoFrameGenerator(classes=classes,\n",
    "                               rescale=1./255,\n",
    "                               glob_pattern=glob_test_pattern,\n",
    "                               nb_frames=FRAMES,\n",
    "                               shuffle=True,\n",
    "                               batch_size=BATCH_SIZE,\n",
    "                               target_shape=IMAGE_SHAPE,\n",
    "                               nb_channel=CHANNELS,\n",
    "                               use_frame_cache=False,)"
   ]
  },
  {
   "cell_type": "markdown",
   "id": "5098404d",
   "metadata": {},
   "source": [
    "Step 2: Build the classifier model\n",
    "\n",
    "* We will use time distributed convnets to extract features from multiple frames in a sequence. The timedistributed layer is used to ensure the same layers process all the images in a sequence.\n",
    "* The output from the convnets is injected into LSTM or GRU to treat the \"Sequence\"\n",
    "* Dense layers are used to take the decision to classify"
   ]
  },
  {
   "cell_type": "code",
   "execution_count": 5,
   "id": "04fa61ec",
   "metadata": {},
   "outputs": [],
   "source": [
    "momentum = .9\n",
    "classifier_model = tf.keras.Sequential([\n",
    "    tf.keras.layers.Conv2D(filters=8, kernel_size=(3, 3), activation='relu', input_shape=(224, 224, 3)),\n",
    "    #tf.keras.layers.BatchNormalization(momentum=momentum),\n",
    "    tf.keras.layers.MaxPooling2D(pool_size=(2, 2), strides=2),\n",
    "    \n",
    "    tf.keras.layers.Conv2D(filters=16, kernel_size=(3, 3), activation='relu'),\n",
    "    #tf.keras.layers.BatchNormalization(momentum=momentum),\n",
    "    tf.keras.layers.MaxPooling2D(pool_size=(2, 2), strides=2),\n",
    "    \n",
    "    tf.keras.layers.Conv2D(filters=32, kernel_size=(3, 3), activation='relu'),\n",
    "    #tf.keras.layers.BatchNormalization(momentum=momentum),\n",
    "    tf.keras.layers.MaxPooling2D(pool_size=(2, 2), strides=2),\n",
    "    \n",
    "    tf.keras.layers.Conv2D(filters=64, kernel_size=(3, 3), activation='relu'),\n",
    "    #tf.keras.layers.BatchNormalization(momentum=momentum),\n",
    "    tf.keras.layers.GlobalMaxPool2D()])\n",
    "\n",
    "def my_model(shape=(5, 224, 224, 3)):\n",
    "    model = tf.keras.Sequential([tf.keras.layers.TimeDistributed(classifier_model, input_shape=shape),\n",
    "                                tf.keras.layers.LSTM(128),\n",
    "                                tf.keras.layers.Dense(64, activation='relu'),\n",
    "                                #tf.keras.layers.Dropout(0.5),\n",
    "                                tf.keras.layers.Dense(2, activation='sigmoid')])\n",
    "    return model\n",
    "    \n"
   ]
  },
  {
   "cell_type": "markdown",
   "id": "eab6e2ca",
   "metadata": {},
   "source": [
    "Step 3: Train the neural network with the training dataset and validate it using test dataset."
   ]
  },
  {
   "cell_type": "code",
   "execution_count": 6,
   "id": "d4ae43c8",
   "metadata": {},
   "outputs": [
    {
     "name": "stdout",
     "output_type": "stream",
     "text": [
      "Epoch 1/50\n",
      "14/14 [==============================] - 123s 8s/step - loss: 0.6978 - accuracy: 0.5089 - val_loss: 0.7040 - val_accuracy: 0.4531 - lr: 0.0010\n",
      "Epoch 2/50\n",
      "14/14 [==============================] - 10s 667ms/step - loss: 0.6893 - accuracy: 0.5625 - val_loss: 0.7089 - val_accuracy: 0.4531 - lr: 0.0010\n",
      "Epoch 3/50\n",
      "14/14 [==============================] - 5s 341ms/step - loss: 0.6913 - accuracy: 0.5446 - val_loss: 0.6972 - val_accuracy: 0.4531 - lr: 0.0010\n",
      "Epoch 4/50\n",
      "14/14 [==============================] - 5s 342ms/step - loss: 0.6856 - accuracy: 0.5625 - val_loss: 0.7003 - val_accuracy: 0.4688 - lr: 0.0010\n",
      "Epoch 5/50\n",
      "14/14 [==============================] - 5s 337ms/step - loss: 0.6824 - accuracy: 0.5536 - val_loss: 0.7060 - val_accuracy: 0.4688 - lr: 0.0010\n",
      "Epoch 6/50\n",
      "14/14 [==============================] - 5s 349ms/step - loss: 0.6724 - accuracy: 0.5625 - val_loss: 0.6928 - val_accuracy: 0.4688 - lr: 0.0010\n",
      "Epoch 7/50\n",
      "14/14 [==============================] - 5s 375ms/step - loss: 0.6619 - accuracy: 0.5625 - val_loss: 0.6693 - val_accuracy: 0.4531 - lr: 0.0010\n",
      "Epoch 8/50\n",
      "14/14 [==============================] - 5s 346ms/step - loss: 0.5547 - accuracy: 0.7232 - val_loss: 0.4240 - val_accuracy: 0.9062 - lr: 0.0010\n",
      "Epoch 9/50\n",
      "14/14 [==============================] - 5s 350ms/step - loss: 0.2719 - accuracy: 0.8929 - val_loss: 0.4037 - val_accuracy: 0.8594 - lr: 0.0010\n",
      "Epoch 10/50\n",
      "14/14 [==============================] - 5s 350ms/step - loss: 0.1834 - accuracy: 0.9196 - val_loss: 0.2973 - val_accuracy: 0.8906 - lr: 0.0010\n",
      "Epoch 11/50\n",
      "14/14 [==============================] - 5s 341ms/step - loss: 0.2123 - accuracy: 0.9107 - val_loss: 0.2586 - val_accuracy: 0.8906 - lr: 0.0010\n",
      "Epoch 12/50\n",
      "14/14 [==============================] - 5s 340ms/step - loss: 0.3111 - accuracy: 0.8750 - val_loss: 0.3262 - val_accuracy: 0.8594 - lr: 0.0010\n",
      "Epoch 13/50\n",
      "14/14 [==============================] - 5s 341ms/step - loss: 0.2236 - accuracy: 0.9196 - val_loss: 0.2696 - val_accuracy: 0.8750 - lr: 0.0010\n",
      "Epoch 14/50\n",
      "14/14 [==============================] - 5s 356ms/step - loss: 0.1761 - accuracy: 0.9464 - val_loss: 0.1994 - val_accuracy: 0.9219 - lr: 0.0010\n",
      "Epoch 15/50\n",
      "14/14 [==============================] - 5s 344ms/step - loss: 0.0972 - accuracy: 0.9732 - val_loss: 0.1710 - val_accuracy: 0.9375 - lr: 0.0010\n",
      "Epoch 16/50\n",
      "14/14 [==============================] - 6s 442ms/step - loss: 0.1106 - accuracy: 0.9643 - val_loss: 0.2750 - val_accuracy: 0.9219 - lr: 0.0010\n",
      "Epoch 17/50\n",
      "14/14 [==============================] - 6s 410ms/step - loss: 0.1231 - accuracy: 0.9464 - val_loss: 0.3165 - val_accuracy: 0.8594 - lr: 0.0010\n",
      "Epoch 18/50\n",
      "14/14 [==============================] - 7s 523ms/step - loss: 0.2114 - accuracy: 0.9196 - val_loss: 0.1876 - val_accuracy: 0.9531 - lr: 0.0010\n",
      "Epoch 19/50\n",
      "14/14 [==============================] - 8s 502ms/step - loss: 0.1202 - accuracy: 0.9464 - val_loss: 0.2657 - val_accuracy: 0.9219 - lr: 0.0010\n",
      "Epoch 20/50\n",
      "14/14 [==============================] - 5s 351ms/step - loss: 0.1202 - accuracy: 0.9464 - val_loss: 0.2077 - val_accuracy: 0.9062 - lr: 0.0010\n",
      "Epoch 21/50\n",
      "14/14 [==============================] - 5s 348ms/step - loss: 0.0836 - accuracy: 0.9643 - val_loss: 0.2080 - val_accuracy: 0.9062 - lr: 0.0010\n",
      "Epoch 22/50\n",
      "14/14 [==============================] - 5s 349ms/step - loss: 0.1028 - accuracy: 0.9643 - val_loss: 0.1653 - val_accuracy: 0.9219 - lr: 0.0010\n",
      "Epoch 23/50\n",
      "14/14 [==============================] - 5s 376ms/step - loss: 0.0868 - accuracy: 0.9643 - val_loss: 0.2887 - val_accuracy: 0.8750 - lr: 0.0010\n",
      "Epoch 24/50\n",
      "14/14 [==============================] - 5s 337ms/step - loss: 0.0616 - accuracy: 0.9911 - val_loss: 0.2550 - val_accuracy: 0.9219 - lr: 0.0010\n",
      "Epoch 25/50\n",
      "14/14 [==============================] - 5s 345ms/step - loss: 0.1054 - accuracy: 0.9554 - val_loss: 0.1865 - val_accuracy: 0.9062 - lr: 0.0010\n",
      "Epoch 26/50\n",
      "14/14 [==============================] - 6s 462ms/step - loss: 0.1007 - accuracy: 0.9732 - val_loss: 0.2069 - val_accuracy: 0.9375 - lr: 0.0010\n",
      "Epoch 27/50\n",
      "14/14 [==============================] - 5s 365ms/step - loss: 0.1081 - accuracy: 0.9643 - val_loss: 0.2528 - val_accuracy: 0.9219 - lr: 0.0010\n",
      "Epoch 28/50\n",
      "14/14 [==============================] - 5s 334ms/step - loss: 0.0783 - accuracy: 0.9732 - val_loss: 0.2074 - val_accuracy: 0.9219 - lr: 0.0010\n",
      "Epoch 29/50\n",
      "14/14 [==============================] - 5s 332ms/step - loss: 0.0402 - accuracy: 0.9821 - val_loss: 0.3137 - val_accuracy: 0.9375 - lr: 0.0010\n",
      "Epoch 30/50\n",
      "14/14 [==============================] - 5s 337ms/step - loss: 0.0727 - accuracy: 0.9643 - val_loss: 0.3425 - val_accuracy: 0.9219 - lr: 0.0010\n",
      "Epoch 31/50\n",
      "14/14 [==============================] - 5s 377ms/step - loss: 0.0855 - accuracy: 0.9732 - val_loss: 0.2505 - val_accuracy: 0.9219 - lr: 0.0010\n",
      "Epoch 32/50\n",
      "14/14 [==============================] - ETA: 0s - loss: 0.0495 - accuracy: 0.9821\n",
      "Epoch 32: ReduceLROnPlateau reducing learning rate to 0.00010000000474974513.\n",
      "14/14 [==============================] - 9s 665ms/step - loss: 0.0495 - accuracy: 0.9821 - val_loss: 0.2467 - val_accuracy: 0.9219 - lr: 0.0010\n",
      "Epoch 33/50\n",
      "14/14 [==============================] - 5s 383ms/step - loss: 0.0294 - accuracy: 0.9911 - val_loss: 0.2292 - val_accuracy: 0.9219 - lr: 1.0000e-04\n",
      "Epoch 34/50\n",
      "14/14 [==============================] - 5s 341ms/step - loss: 0.0525 - accuracy: 0.9732 - val_loss: 0.2282 - val_accuracy: 0.9219 - lr: 1.0000e-04\n",
      "Epoch 35/50\n",
      "14/14 [==============================] - 6s 438ms/step - loss: 0.0478 - accuracy: 0.9821 - val_loss: 0.2234 - val_accuracy: 0.9219 - lr: 1.0000e-04\n",
      "Epoch 36/50\n",
      "14/14 [==============================] - 6s 407ms/step - loss: 0.0808 - accuracy: 0.9821 - val_loss: 0.2141 - val_accuracy: 0.9219 - lr: 1.0000e-04\n",
      "Epoch 37/50\n",
      "14/14 [==============================] - 5s 342ms/step - loss: 0.0240 - accuracy: 0.9911 - val_loss: 0.2065 - val_accuracy: 0.9219 - lr: 1.0000e-04\n",
      "Epoch 38/50\n",
      "14/14 [==============================] - 5s 339ms/step - loss: 0.0309 - accuracy: 0.9821 - val_loss: 0.2076 - val_accuracy: 0.9219 - lr: 1.0000e-04\n",
      "Epoch 39/50\n",
      "14/14 [==============================] - 7s 492ms/step - loss: 0.0134 - accuracy: 1.0000 - val_loss: 0.2129 - val_accuracy: 0.9219 - lr: 1.0000e-04\n",
      "Epoch 40/50\n",
      "14/14 [==============================] - 8s 518ms/step - loss: 0.0143 - accuracy: 1.0000 - val_loss: 0.2135 - val_accuracy: 0.9219 - lr: 1.0000e-04\n",
      "Epoch 41/50\n",
      "14/14 [==============================] - 5s 347ms/step - loss: 0.0581 - accuracy: 0.9732 - val_loss: 0.2181 - val_accuracy: 0.9219 - lr: 1.0000e-04\n",
      "Epoch 42/50\n",
      "14/14 [==============================] - ETA: 0s - loss: 0.0814 - accuracy: 0.9732\n",
      "Epoch 42: ReduceLROnPlateau reducing learning rate to 1.0000000474974514e-05.\n",
      "14/14 [==============================] - 5s 341ms/step - loss: 0.0814 - accuracy: 0.9732 - val_loss: 0.2115 - val_accuracy: 0.9219 - lr: 1.0000e-04\n",
      "Epoch 43/50\n",
      "14/14 [==============================] - 7s 479ms/step - loss: 0.0311 - accuracy: 0.9911 - val_loss: 0.2117 - val_accuracy: 0.9219 - lr: 1.0000e-05\n",
      "Epoch 44/50\n",
      "14/14 [==============================] - 5s 378ms/step - loss: 0.0671 - accuracy: 0.9821 - val_loss: 0.1917 - val_accuracy: 0.9375 - lr: 1.0000e-05\n",
      "Epoch 45/50\n",
      "14/14 [==============================] - 5s 361ms/step - loss: 0.0145 - accuracy: 0.9911 - val_loss: 0.2104 - val_accuracy: 0.9219 - lr: 1.0000e-05\n",
      "Epoch 46/50\n",
      "14/14 [==============================] - 6s 399ms/step - loss: 0.0172 - accuracy: 1.0000 - val_loss: 0.2100 - val_accuracy: 0.9219 - lr: 1.0000e-05\n",
      "Epoch 47/50\n",
      "14/14 [==============================] - 5s 369ms/step - loss: 0.0455 - accuracy: 0.9911 - val_loss: 0.2095 - val_accuracy: 0.9219 - lr: 1.0000e-05\n",
      "Epoch 48/50\n",
      "14/14 [==============================] - 7s 482ms/step - loss: 0.0656 - accuracy: 0.9821 - val_loss: 0.2103 - val_accuracy: 0.9219 - lr: 1.0000e-05\n",
      "Epoch 49/50\n",
      "14/14 [==============================] - 6s 389ms/step - loss: 0.0245 - accuracy: 0.9911 - val_loss: 0.2102 - val_accuracy: 0.9219 - lr: 1.0000e-05\n",
      "Epoch 50/50\n",
      "14/14 [==============================] - 7s 519ms/step - loss: 0.0143 - accuracy: 1.0000 - val_loss: 0.2098 - val_accuracy: 0.9219 - lr: 1.0000e-05\n"
     ]
    }
   ],
   "source": [
    "SHAPE = (FRAMES, ) + IMAGE_SHAPE + (CHANNELS,)\n",
    "model = my_model(shape=SHAPE)\n",
    "callback = [tf.keras.callbacks.ReduceLROnPlateau(verbose=1)]\n",
    "\n",
    "model.compile(optimizer=tf.keras.optimizers.Adam(learning_rate=0.001),\n",
    "              loss = 'binary_crossentropy',\n",
    "              metrics=[\"accuracy\"])\n",
    "\n",
    "\n",
    "model_history = model.fit(training_set,\n",
    "                          epochs=EPOCHS,\n",
    "                          validation_data=test_set,\n",
    "                          callbacks=callback,)"
   ]
  },
  {
   "cell_type": "code",
   "execution_count": 7,
   "id": "160b7710",
   "metadata": {},
   "outputs": [
    {
     "name": "stdout",
     "output_type": "stream",
     "text": [
      "Model: \"sequential_1\"\n",
      "_________________________________________________________________\n",
      " Layer (type)                Output Shape              Param #   \n",
      "=================================================================\n",
      " time_distributed (TimeDistr  (None, 5, 64)            24528     \n",
      " ibuted)                                                         \n",
      "                                                                 \n",
      " lstm (LSTM)                 (None, 128)               98816     \n",
      "                                                                 \n",
      " dense (Dense)               (None, 64)                8256      \n",
      "                                                                 \n",
      " dense_1 (Dense)             (None, 2)                 130       \n",
      "                                                                 \n",
      "=================================================================\n",
      "Total params: 131,730\n",
      "Trainable params: 131,730\n",
      "Non-trainable params: 0\n",
      "_________________________________________________________________\n"
     ]
    }
   ],
   "source": [
    "model.summary()"
   ]
  },
  {
   "cell_type": "code",
   "execution_count": 8,
   "id": "c99d54b5",
   "metadata": {},
   "outputs": [
    {
     "data": {
      "image/png": "[encoded data removed]",
      "text/plain": [
       "<Figure size 800x400 with 2 Axes>"
      ]
     },
     "metadata": {},
     "output_type": "display_data"
    }
   ],
   "source": [
    "def plot_curves(model):    \n",
    "    fig, ax = plt.subplots(ncols=2, figsize=(8, 4))\n",
    "    ax[0].plot(range(EPOCHS), model.history['accuracy'], label=\"Training Accuracy\")\n",
    "    ax[0].plot(range(EPOCHS), model.history['val_accuracy'], label=\"Validation Accuracy\")\n",
    "    ax[0].set_xlabel(\"Epochs\")\n",
    "    ax[0].set_ylabel(\"Accuracy\")\n",
    "    ax[0].legend()\n",
    "    ax[1].plot(range(EPOCHS), model.history['loss'], label=\"Training Loss\")\n",
    "    ax[1].plot(range(EPOCHS), model.history['val_loss'], label=\"Validation Loss\")\n",
    "    ax[1].set_xlabel(\"Epochs\")\n",
    "    ax[1].set_ylabel(\"Loss\")\n",
    "    ax[1].legend()\n",
    "    plt.show()\n",
    "    \n",
    "plot_curves(model_history)"
   ]
  },
  {
   "cell_type": "markdown",
   "id": "0d8e3e54",
   "metadata": {},
   "source": [
    "#### Summary\n",
    "\n",
    "We can acheive almost 93% accuracy while classifying a sequence of images. The real challenge is to get large enough datset of videos to perfrom effective training. Additionally, we can observe that loss and accuracy fluctuate because of the small batch size. Training the model with a larger dataset will give consistent results. Furthermore, pre-trained models can be used to build effective feature extractors that can perform effective sequence classification."
   ]
  },
  {
   "cell_type": "code",
   "execution_count": null,
   "id": "3ab395e0",
   "metadata": {},
   "outputs": [],
   "source": []
  }
 ],
 "metadata": {
  "kernelspec": {
   "display_name": "Python 3 (ipykernel)",
   "language": "python",
   "name": "python3"
  },
  "language_info": {
   "codemirror_mode": {
    "name": "ipython",
    "version": 3
   },
   "file_extension": ".py",
   "mimetype": "text/x-python",
   "name": "python",
   "nbconvert_exporter": "python",
   "pygments_lexer": "ipython3",
   "version": "3.9.16"
  }
 },
 "nbformat": 4,
 "nbformat_minor": 5
}
